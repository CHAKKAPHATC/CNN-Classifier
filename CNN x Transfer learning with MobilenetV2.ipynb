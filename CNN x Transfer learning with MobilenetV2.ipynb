{
 "cells": [
  {
   "cell_type": "code",
   "execution_count": null,
   "metadata": {},
   "outputs": [],
   "source": [
    "import tensorflow as tf"
   ]
  },
  {
   "cell_type": "code",
   "execution_count": null,
   "metadata": {},
   "outputs": [],
   "source": [
    "import numpy as np\n",
    "import cv2\n",
    "import os\n",
    "from tqdm import tqdm\n",
    "import keras\n",
    "from keras.models import Sequential\n",
    "from keras.layers import Dense, Dropout, Activation, Flatten\n",
    "from keras.layers import Conv2D, MaxPooling2D"
   ]
  },
  {
   "cell_type": "code",
   "execution_count": null,
   "metadata": {},
   "outputs": [],
   "source": [
    "from os import listdir\n",
    "from os.path import isfile, join"
   ]
  },
  {
   "cell_type": "code",
   "execution_count": null,
   "metadata": {},
   "outputs": [],
   "source": [
    "!wget http://techno.varee.ac.th/colab/mosquito.zip\n",
    "!unzip --qq mosquito.zip"
   ]
  },
  {
   "cell_type": "code",
   "execution_count": null,
   "metadata": {},
   "outputs": [],
   "source": [
    "width = 128\n",
    "num_classes = 2\n",
    "trainpath = 'train/'\n",
    "testpath = 'test/'\n",
    "trainImg = [trainpath+f for f in listdir(trainpath) if listdir(join(trainpath, f))]\n",
    "testImg = [testpath+f for f in listdir(testpath) if listdir(join(testpath, f))]"
   ]
  },
  {
   "cell_type": "code",
   "execution_count": null,
   "metadata": {},
   "outputs": [],
   "source": [
    "testImg"
   ]
  },
  {
   "cell_type": "code",
   "execution_count": null,
   "metadata": {},
   "outputs": [],
   "source": [
    "def img2data(path):\n",
    "  rawImgs = []\n",
    "  labels = []\n",
    "  c = 0\n",
    "  for imagePath in (path):\n",
    "      for item in tqdm(os.listdir(imagePath)):\n",
    "          file = os.path.join(imagePath, item)\n",
    "          #print(file)\n",
    "          c+=1\n",
    "          l = imagePath.split('/')[1]\n",
    "          if l == 'Aedes':\n",
    "            labels.append([1,0])         \n",
    "          elif l == 'Culex':\n",
    "            labels.append([0,1])\n",
    "          img = cv2.imread(file , cv2.COLOR_BGR2RGB)\n",
    "          img = cv2.resize(img ,(width,width))\n",
    "          rawImgs.append(img)\n",
    "  return rawImgs, labels"
   ]
  },
  {
   "cell_type": "code",
   "execution_count": null,
   "metadata": {},
   "outputs": [],
   "source": [
    "x_train, y_train = img2data(trainImg)\n",
    "x_test, y_test = img2data(testImg)"
   ]
  },
  {
   "cell_type": "code",
   "execution_count": null,
   "metadata": {},
   "outputs": [],
   "source": [
    "x_train = np.array(x_train)\n",
    "y_train = np.array(y_train)\n",
    "x_test = np.array(x_test)\n",
    "y_test = np.array(y_test)\n",
    "x_train = x_train.astype('float32')\n",
    "x_test = x_test.astype('float32')\n",
    "x_train /= 255\n",
    "x_test /= 255"
   ]
  },
  {
   "cell_type": "code",
   "execution_count": null,
   "metadata": {},
   "outputs": [],
   "source": [
    "x_train.shape,y_train.shape,x_test.shape, y_test.shape"
   ]
  },
  {
   "cell_type": "code",
   "execution_count": null,
   "metadata": {},
   "outputs": [],
   "source": [
    "#\n",
    "base_model = keras.applications.MobileNetV2(input_shape=(width,width,3),\n",
    "                                                   include_top=False,\n",
    "                                                   weights='imagenet')\n",
    "base_model.trainable = False\n",
    "num_classes = 2\n",
    "\n",
    "model = keras.Sequential([\n",
    "        base_model,\n",
    "        keras.layers.Conv2D(256, 3, activation='relu'),\n",
    "        \n",
    "        keras.layers.Conv2D(128, 3, activation='relu'),\n",
    "        keras.layers.MaxPooling2D(pool_size=(2, 2)),\n",
    "        keras.layers.Dropout(0.25),\n",
    "        keras.layers.Dense(16),\n",
    "        keras.layers.Flatten(),\n",
    "        keras.layers.Dense(num_classes, activation='softmax')\n",
    "    ])"
   ]
  },
  {
   "cell_type": "code",
   "execution_count": null,
   "metadata": {},
   "outputs": [],
   "source": [
    "model.summary()"
   ]
  },
  {
   "cell_type": "code",
   "execution_count": null,
   "metadata": {},
   "outputs": [],
   "source": [
    "model.compile(optimizer=keras.optimizers.RMSprop(lr=0.0001), loss='categorical_crossentropy'\n",
    "                , metrics= ['accuracy'], weighted_metrics=['accuracy'])\n",
    "\n",
    "batch_size = 32\n",
    "epochs = 10"
   ]
  },
  {
   "cell_type": "code",
   "execution_count": null,
   "metadata": {},
   "outputs": [],
   "source": [
    "history = model.fit(x_train, y_train ,batch_size=batch_size, epochs=epochs ,validation_data=(x_test, y_test))"
   ]
  },
  {
   "cell_type": "code",
   "execution_count": null,
   "metadata": {},
   "outputs": [],
   "source": [
    "import matplotlib.pyplot as plt\n",
    "plt.plot(history.history['accuracy'])\n",
    "plt.plot(history.history['val_accuracy'])\n",
    "plt.title('model accuracy')\n",
    "plt.ylabel('accuracy')\n",
    "plt.xlabel('epoch')\n",
    "plt.legend(['train', 'validation'], loc='upper left')\n",
    "plt.show()\n",
    "# \"Loss\"\n",
    "plt.plot(history.history['loss'])\n",
    "plt.plot(history.history['val_loss'])\n",
    "plt.title('model loss')\n",
    "plt.ylabel('loss')\n",
    "plt.xlabel('epoch')\n",
    "plt.legend(['train', 'validation'], loc='upper left')\n",
    "plt.show()"
   ]
  },
  {
   "cell_type": "code",
   "execution_count": null,
   "metadata": {},
   "outputs": [],
   "source": [
    "testpath = 'test/'\n",
    "testImg = [testpath+f for f in listdir(testpath) if listdir(join(testpath, f))]\n",
    "rimg = []\n",
    "for imagePath in (testImg):\n",
    "    for item in (os.listdir(imagePath)):\n",
    "        file = os.path.join(imagePath, item)\n",
    "        if item.split('.')[0] != \"\":\n",
    "           \n",
    "          img = cv2.imread(file , cv2.COLOR_BGR2RGB)\n",
    "          ori = cv2.cvtColor(img, cv2.COLOR_BGR2RGB)\n",
    "          img = cv2.resize(img ,(width,width))\n",
    "          rimg = np.array(img)\n",
    "          rimg = rimg.astype('float32')\n",
    "          rimg /= 255\n",
    "          rimg = np.reshape(rimg ,(1,128,128,3))\n",
    "          predict = model.predict(rimg)\n",
    "          label = ['Aedes','Culex']\n",
    "          result = label[np.argmax(predict)]\n",
    "          print(predict)\n",
    "          print('real:'+str(item))\n",
    "          print('predict:'+str(result))\n",
    "          #cv2.putText(img, 'real:'+str(item), (10,10), cv2.FONT_HERSHEY_SIMPLEX, 0.2, (255,0,))\n",
    "          #cv2.putText(img, 'predict'+str(result), (10,30), cv2.FONT_HERSHEY_SIMPLEX, 0.2, (255,0,0))\n",
    "          plt.imshow(ori)\n",
    "          plt.show()\n"
   ]
  }
 ],
 "metadata": {
  "kernelspec": {
   "display_name": "Python 3",
   "language": "python",
   "name": "python3"
  },
  "language_info": {
   "codemirror_mode": {
    "name": "ipython",
    "version": 3
   },
   "file_extension": ".py",
   "mimetype": "text/x-python",
   "name": "python",
   "nbconvert_exporter": "python",
   "pygments_lexer": "ipython3",
   "version": "3.8.5"
  }
 },
 "nbformat": 4,
 "nbformat_minor": 4
}
