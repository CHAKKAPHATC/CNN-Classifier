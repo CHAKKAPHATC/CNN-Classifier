{
 "cells": [
  {
   "cell_type": "code",
   "execution_count": 7,
   "metadata": {},
   "outputs": [],
   "source": [
    "import tensorflow as tf"
   ]
  },
  {
   "cell_type": "code",
   "execution_count": 8,
   "metadata": {},
   "outputs": [],
   "source": [
    "import numpy as np\n",
    "import cv2\n",
    "import os\n",
    "from tqdm import tqdm\n",
    "import keras\n",
    "from keras.models import Sequential\n",
    "from keras.layers import Dense, Dropout, Activation, Flatten\n",
    "from keras.layers import Conv2D, MaxPooling2D"
   ]
  },
  {
   "cell_type": "code",
   "execution_count": 9,
   "metadata": {},
   "outputs": [],
   "source": [
    "from os import listdir\n",
    "from os.path import isfile, join"
   ]
  },
  {
   "cell_type": "code",
   "execution_count": 10,
   "metadata": {},
   "outputs": [
    {
     "name": "stdout",
     "output_type": "stream",
     "text": [
      "--2021-05-28 13:30:30--  http://techno.varee.ac.th/colab/mosquito.zip\n",
      "Resolving techno.varee.ac.th (techno.varee.ac.th)... 110.164.57.36\n",
      "Connecting to techno.varee.ac.th (techno.varee.ac.th)|110.164.57.36|:80... connected.\n",
      "HTTP request sent, awaiting response... 200 OK\n",
      "Length: 28715057 (27M) [application/zip]\n",
      "Saving to: ‘mosquito.zip’\n",
      "\n",
      "mosquito.zip        100%[===================>]  27.38M  1.06MB/s    in 33s     \n",
      "\n",
      "2021-05-28 13:31:03 (863 KB/s) - ‘mosquito.zip’ saved [28715057/28715057]\n",
      "\n"
     ]
    }
   ],
   "source": [
    "!wget http://techno.varee.ac.th/colab/mosquito.zip\n",
    "!unzip --qq mosquito.zip"
   ]
  },
  {
   "cell_type": "code",
   "execution_count": 11,
   "metadata": {},
   "outputs": [],
   "source": [
    "width = 128\n",
    "num_classes = 2\n",
    "trainpath = 'train/'\n",
    "testpath = 'test/'\n",
    "trainImg = [trainpath+f for f in listdir(trainpath) if listdir(join(trainpath, f))]\n",
    "testImg = [testpath+f for f in listdir(testpath) if listdir(join(testpath, f))]"
   ]
  },
  {
   "cell_type": "code",
   "execution_count": 12,
   "metadata": {},
   "outputs": [
    {
     "data": {
      "text/plain": [
       "['test/Culex', 'test/Aedes']"
      ]
     },
     "execution_count": 12,
     "metadata": {},
     "output_type": "execute_result"
    }
   ],
   "source": [
    "testImg"
   ]
  },
  {
   "cell_type": "code",
   "execution_count": 13,
   "metadata": {},
   "outputs": [],
   "source": [
    "# One-Hot Encoding\n",
    "def img2data(path):\n",
    "  rawImgs = []\n",
    "  labels = []\n",
    "  c = 0\n",
    "  for imagePath in (path):\n",
    "      for item in tqdm(os.listdir(imagePath)):\n",
    "          file = os.path.join(imagePath, item)\n",
    "          #print(file)\n",
    "          c+=1\n",
    "          l = imagePath.split('/')[1]\n",
    "          if l == 'Aedes':\n",
    "            labels.append([1,0])         \n",
    "          elif l == 'Culex':\n",
    "            labels.append([0,1])\n",
    "          img = cv2.imread(file , cv2.COLOR_BGR2RGB)\n",
    "          img = cv2.resize(img ,(width,width))\n",
    "          rawImgs.append(img)\n",
    "  return rawImgs, labels"
   ]
  },
  {
   "cell_type": "code",
   "execution_count": 14,
   "metadata": {},
   "outputs": [
    {
     "name": "stderr",
     "output_type": "stream",
     "text": [
      "100%|██████████| 600/600 [00:00<00:00, 830.90it/s]\n",
      "100%|██████████| 600/600 [00:00<00:00, 854.17it/s]\n",
      "100%|██████████| 30/30 [00:00<00:00, 779.06it/s]\n",
      "100%|██████████| 30/30 [00:00<00:00, 800.15it/s]\n"
     ]
    }
   ],
   "source": [
    "x_train, y_train = img2data(trainImg)\n",
    "x_test, y_test = img2data(testImg)"
   ]
  },
  {
   "cell_type": "code",
   "execution_count": 15,
   "metadata": {},
   "outputs": [],
   "source": [
    "x_train = np.array(x_train)\n",
    "y_train = np.array(y_train)\n",
    "x_test = np.array(x_test)\n",
    "y_test = np.array(y_test)\n",
    "x_train = x_train.astype('float32')\n",
    "x_test = x_test.astype('float32')\n",
    "x_train /= 255\n",
    "x_test /= 255"
   ]
  },
  {
   "cell_type": "code",
   "execution_count": 16,
   "metadata": {},
   "outputs": [
    {
     "data": {
      "text/plain": [
       "((1200, 128, 128, 3), (1200, 2), (60, 128, 128, 3), (60, 2))"
      ]
     },
     "execution_count": 16,
     "metadata": {},
     "output_type": "execute_result"
    }
   ],
   "source": [
    "x_train.shape,y_train.shape,x_test.shape, y_test.shape"
   ]
  },
  {
   "cell_type": "code",
   "execution_count": 17,
   "metadata": {},
   "outputs": [],
   "source": [
    "#Create Nueral Network \n",
    "model = keras.Sequential([\n",
    "        keras.layers.Conv2D(128, (3,3), activation='relu', input_shape=(width, width, 3)),\n",
    "        keras.layers.MaxPooling2D(pool_size=(2, 2)),\n",
    "        keras.layers.Conv2D(128,(3,3) , activation='relu'),\n",
    "        keras.layers.MaxPooling2D(pool_size=(2,2 )),\n",
    "        keras.layers.Dense(16),\n",
    "        keras.layers.Flatten(),\n",
    "\n",
    "        keras.layers.Dense(num_classes, activation='softmax') #softmax for one hot . . # sigmoid for 0/1\n",
    "    ])"
   ]
  },
  {
   "cell_type": "code",
   "execution_count": 18,
   "metadata": {},
   "outputs": [
    {
     "name": "stdout",
     "output_type": "stream",
     "text": [
      "Model: \"sequential\"\n",
      "_________________________________________________________________\n",
      "Layer (type)                 Output Shape              Param #   \n",
      "=================================================================\n",
      "conv2d (Conv2D)              (None, 126, 126, 128)     3584      \n",
      "_________________________________________________________________\n",
      "max_pooling2d (MaxPooling2D) (None, 63, 63, 128)       0         \n",
      "_________________________________________________________________\n",
      "conv2d_1 (Conv2D)            (None, 61, 61, 128)       147584    \n",
      "_________________________________________________________________\n",
      "max_pooling2d_1 (MaxPooling2 (None, 30, 30, 128)       0         \n",
      "_________________________________________________________________\n",
      "dense (Dense)                (None, 30, 30, 16)        2064      \n",
      "_________________________________________________________________\n",
      "flatten (Flatten)            (None, 14400)             0         \n",
      "_________________________________________________________________\n",
      "dense_1 (Dense)              (None, 2)                 28802     \n",
      "=================================================================\n",
      "Total params: 182,034\n",
      "Trainable params: 182,034\n",
      "Non-trainable params: 0\n",
      "_________________________________________________________________\n"
     ]
    }
   ],
   "source": [
    "model.summary()"
   ]
  },
  {
   "cell_type": "code",
   "execution_count": 19,
   "metadata": {},
   "outputs": [
    {
     "name": "stderr",
     "output_type": "stream",
     "text": [
      "/Users/kwin/opt/anaconda3/lib/python3.8/site-packages/tensorflow/python/keras/optimizer_v2/optimizer_v2.py:374: UserWarning: The `lr` argument is deprecated, use `learning_rate` instead.\n",
      "  warnings.warn(\n"
     ]
    }
   ],
   "source": [
    "model.compile(optimizer=keras.optimizers.RMSprop(lr=0.0001), loss='categorical_crossentropy'\n",
    "                , metrics= ['accuracy'])\n",
    "batch_size = 32\n",
    "epochs = 10"
   ]
  },
  {
   "cell_type": "code",
   "execution_count": 20,
   "metadata": {},
   "outputs": [
    {
     "name": "stdout",
     "output_type": "stream",
     "text": [
      "Epoch 1/10\n",
      "38/38 [==============================] - 34s 851ms/step - loss: 0.6028 - accuracy: 0.6575 - val_loss: 0.5264 - val_accuracy: 0.7667\n",
      "Epoch 2/10\n",
      "38/38 [==============================] - 35s 912ms/step - loss: 0.4455 - accuracy: 0.8267 - val_loss: 0.4220 - val_accuracy: 0.8667\n",
      "Epoch 3/10\n",
      "38/38 [==============================] - 65s 2s/step - loss: 0.3382 - accuracy: 0.8667 - val_loss: 0.4831 - val_accuracy: 0.7833\n",
      "Epoch 4/10\n",
      "38/38 [==============================] - 69s 2s/step - loss: 0.2771 - accuracy: 0.8883 - val_loss: 0.2662 - val_accuracy: 0.8833\n",
      "Epoch 5/10\n",
      "38/38 [==============================] - 72s 2s/step - loss: 0.2237 - accuracy: 0.9217 - val_loss: 0.2154 - val_accuracy: 0.9667\n",
      "Epoch 6/10\n",
      "38/38 [==============================] - 67s 2s/step - loss: 0.1817 - accuracy: 0.9367 - val_loss: 0.2688 - val_accuracy: 0.8667\n",
      "Epoch 7/10\n",
      "38/38 [==============================] - 63s 2s/step - loss: 0.1411 - accuracy: 0.9600 - val_loss: 0.1963 - val_accuracy: 0.9333\n",
      "Epoch 8/10\n",
      "38/38 [==============================] - 65s 2s/step - loss: 0.1223 - accuracy: 0.9642 - val_loss: 0.1406 - val_accuracy: 0.9667\n",
      "Epoch 9/10\n",
      "38/38 [==============================] - 68s 2s/step - loss: 0.1012 - accuracy: 0.9700 - val_loss: 0.2383 - val_accuracy: 0.8833\n",
      "Epoch 10/10\n",
      "38/38 [==============================] - 67s 2s/step - loss: 0.1027 - accuracy: 0.9642 - val_loss: 0.1214 - val_accuracy: 0.9833\n"
     ]
    }
   ],
   "source": [
    "history = model.fit(x_train, y_train ,batch_size=batch_size, epochs=epochs ,validation_data=(x_test, y_test))"
   ]
  },
  {
   "cell_type": "code",
   "execution_count": 21,
   "metadata": {},
   "outputs": [
    {
     "data": {
      "image/png": "[encoded data removed]",
      "text/plain": [
       "<Figure size 432x288 with 1 Axes>"
      ]
     },
     "metadata": {
      "needs_background": "light"
     },
     "output_type": "display_data"
    },
    {
     "data": {
      "image/png": "[encoded data removed]",
      "text/plain": [
       "<Figure size 432x288 with 1 Axes>"
      ]
     },
     "metadata": {
      "needs_background": "light"
     },
     "output_type": "display_data"
    }
   ],
   "source": [
    "import matplotlib.pyplot as plt\n",
    "plt.plot(history.history['accuracy'])\n",
    "plt.plot(history.history['val_accuracy'])\n",
    "plt.title('model accuracy')\n",
    "plt.ylabel('accuracy')\n",
    "plt.xlabel('epoch')\n",
    "plt.legend(['train', 'validation'], loc='upper left')\n",
    "plt.show()\n",
    "# \"Loss\"\n",
    "plt.plot(history.history['loss'])\n",
    "plt.plot(history.history['val_loss'])\n",
    "plt.title('model loss')\n",
    "plt.ylabel('loss')\n",
    "plt.xlabel('epoch')\n",
    "plt.legend(['train', 'validation'], loc='upper left')\n",
    "plt.show()"
   ]
  },
  {
   "cell_type": "code",
   "execution_count": 24,
   "metadata": {},
   "outputs": [
    {
     "ename": "NotADirectoryError",
     "evalue": "[Errno 20] Not a directory: 'test/.DS_Store'",
     "output_type": "error",
     "traceback": [
      "\u001b[0;31m---------------------------------------------------------------------------\u001b[0m",
      "\u001b[0;31mNotADirectoryError\u001b[0m                        Traceback (most recent call last)",
      "\u001b[0;32m<ipython-input-24-10ae9acb09d2>\u001b[0m in \u001b[0;36m<module>\u001b[0;34m\u001b[0m\n\u001b[1;32m      1\u001b[0m \u001b[0mtestpath\u001b[0m \u001b[0;34m=\u001b[0m \u001b[0;34m'test/'\u001b[0m\u001b[0;34m\u001b[0m\u001b[0;34m\u001b[0m\u001b[0m\n\u001b[0;32m----> 2\u001b[0;31m \u001b[0mtestImg\u001b[0m \u001b[0;34m=\u001b[0m \u001b[0;34m[\u001b[0m\u001b[0mtestpath\u001b[0m\u001b[0;34m+\u001b[0m\u001b[0mf\u001b[0m \u001b[0;32mfor\u001b[0m \u001b[0mf\u001b[0m \u001b[0;32min\u001b[0m \u001b[0mlistdir\u001b[0m\u001b[0;34m(\u001b[0m\u001b[0mtestpath\u001b[0m\u001b[0;34m)\u001b[0m \u001b[0;32mif\u001b[0m \u001b[0mlistdir\u001b[0m\u001b[0;34m(\u001b[0m\u001b[0mjoin\u001b[0m\u001b[0;34m(\u001b[0m\u001b[0mtestpath\u001b[0m\u001b[0;34m,\u001b[0m \u001b[0mf\u001b[0m\u001b[0;34m)\u001b[0m\u001b[0;34m)\u001b[0m\u001b[0;34m]\u001b[0m\u001b[0;34m\u001b[0m\u001b[0;34m\u001b[0m\u001b[0m\n\u001b[0m\u001b[1;32m      3\u001b[0m \u001b[0mrimg\u001b[0m \u001b[0;34m=\u001b[0m \u001b[0;34m[\u001b[0m\u001b[0;34m]\u001b[0m\u001b[0;34m\u001b[0m\u001b[0;34m\u001b[0m\u001b[0m\n\u001b[1;32m      4\u001b[0m \u001b[0;32mfor\u001b[0m \u001b[0mimagePath\u001b[0m \u001b[0;32min\u001b[0m \u001b[0;34m(\u001b[0m\u001b[0mtestImg\u001b[0m\u001b[0;34m)\u001b[0m\u001b[0;34m:\u001b[0m\u001b[0;34m\u001b[0m\u001b[0;34m\u001b[0m\u001b[0m\n\u001b[1;32m      5\u001b[0m     \u001b[0;32mfor\u001b[0m \u001b[0mitem\u001b[0m \u001b[0;32min\u001b[0m \u001b[0;34m(\u001b[0m\u001b[0mos\u001b[0m\u001b[0;34m.\u001b[0m\u001b[0mlistdir\u001b[0m\u001b[0;34m(\u001b[0m\u001b[0mimagePath\u001b[0m\u001b[0;34m)\u001b[0m\u001b[0;34m)\u001b[0m\u001b[0;34m:\u001b[0m\u001b[0;34m\u001b[0m\u001b[0;34m\u001b[0m\u001b[0m\n",
      "\u001b[0;32m<ipython-input-24-10ae9acb09d2>\u001b[0m in \u001b[0;36m<listcomp>\u001b[0;34m(.0)\u001b[0m\n\u001b[1;32m      1\u001b[0m \u001b[0mtestpath\u001b[0m \u001b[0;34m=\u001b[0m \u001b[0;34m'test/'\u001b[0m\u001b[0;34m\u001b[0m\u001b[0;34m\u001b[0m\u001b[0m\n\u001b[0;32m----> 2\u001b[0;31m \u001b[0mtestImg\u001b[0m \u001b[0;34m=\u001b[0m \u001b[0;34m[\u001b[0m\u001b[0mtestpath\u001b[0m\u001b[0;34m+\u001b[0m\u001b[0mf\u001b[0m \u001b[0;32mfor\u001b[0m \u001b[0mf\u001b[0m \u001b[0;32min\u001b[0m \u001b[0mlistdir\u001b[0m\u001b[0;34m(\u001b[0m\u001b[0mtestpath\u001b[0m\u001b[0;34m)\u001b[0m \u001b[0;32mif\u001b[0m \u001b[0mlistdir\u001b[0m\u001b[0;34m(\u001b[0m\u001b[0mjoin\u001b[0m\u001b[0;34m(\u001b[0m\u001b[0mtestpath\u001b[0m\u001b[0;34m,\u001b[0m \u001b[0mf\u001b[0m\u001b[0;34m)\u001b[0m\u001b[0;34m)\u001b[0m\u001b[0;34m]\u001b[0m\u001b[0;34m\u001b[0m\u001b[0;34m\u001b[0m\u001b[0m\n\u001b[0m\u001b[1;32m      3\u001b[0m \u001b[0mrimg\u001b[0m \u001b[0;34m=\u001b[0m \u001b[0;34m[\u001b[0m\u001b[0;34m]\u001b[0m\u001b[0;34m\u001b[0m\u001b[0;34m\u001b[0m\u001b[0m\n\u001b[1;32m      4\u001b[0m \u001b[0;32mfor\u001b[0m \u001b[0mimagePath\u001b[0m \u001b[0;32min\u001b[0m \u001b[0;34m(\u001b[0m\u001b[0mtestImg\u001b[0m\u001b[0;34m)\u001b[0m\u001b[0;34m:\u001b[0m\u001b[0;34m\u001b[0m\u001b[0;34m\u001b[0m\u001b[0m\n\u001b[1;32m      5\u001b[0m     \u001b[0;32mfor\u001b[0m \u001b[0mitem\u001b[0m \u001b[0;32min\u001b[0m \u001b[0;34m(\u001b[0m\u001b[0mos\u001b[0m\u001b[0;34m.\u001b[0m\u001b[0mlistdir\u001b[0m\u001b[0;34m(\u001b[0m\u001b[0mimagePath\u001b[0m\u001b[0;34m)\u001b[0m\u001b[0;34m)\u001b[0m\u001b[0;34m:\u001b[0m\u001b[0;34m\u001b[0m\u001b[0;34m\u001b[0m\u001b[0m\n",
      "\u001b[0;31mNotADirectoryError\u001b[0m: [Errno 20] Not a directory: 'test/.DS_Store'"
     ]
    }
   ],
   "source": [
    "testpath = 'test/'\n",
    "testImg = [testpath+f for f in listdir(testpath) if listdir(join(testpath, f))]\n",
    "rimg = []\n",
    "for imagePath in (testImg):\n",
    "    for item in (os.listdir(imagePath)):\n",
    "        file = os.path.join(imagePath, item)\n",
    "        if item.split('.')[0] != \"\":\n",
    "           \n",
    "          img = cv2.imread(file , cv2.COLOR_BGR2RGB)\n",
    "          ori = cv2.cvtColor(img, cv2.COLOR_BGR2RGB)\n",
    "          img = cv2.resize(img ,(width,width))\n",
    "          rimg = np.array(img)\n",
    "          rimg = rimg.astype('float32')\n",
    "          rimg /= 255\n",
    "          rimg = np.reshape(rimg ,(1,128,128,3))\n",
    "          predict = model.predict(rimg)\n",
    "          label = ['Aedes','Culex']\n",
    "          result = label[np.argmax(predict)]\n",
    "          print(predict)\n",
    "          print('real:'+str(item))\n",
    "          print('predict:'+str(result))\n",
    "          #cv2.putText(img, 'real:'+str(item), (10,10), cv2.FONT_HERSHEY_SIMPLEX, 0.2, (255,0,))\n",
    "          #cv2.putText(img, 'predict'+str(result), (10,30), cv2.FONT_HERSHEY_SIMPLEX, 0.2, (255,0,0))\n",
    "          plt.imshow(ori)\n",
    "          plt.show()"
   ]
  },
  {
   "cell_type": "code",
   "execution_count": null,
   "metadata": {},
   "outputs": [],
   "source": []
  }
 ],
 "metadata": {
  "kernelspec": {
   "display_name": "Python 3",
   "language": "python",
   "name": "python3"
  },
  "language_info": {
   "codemirror_mode": {
    "name": "ipython",
    "version": 3
   },
   "file_extension": ".py",
   "mimetype": "text/x-python",
   "name": "python",
   "nbconvert_exporter": "python",
   "pygments_lexer": "ipython3",
   "version": "3.8.5"
  }
 },
 "nbformat": 4,
 "nbformat_minor": 4
}
